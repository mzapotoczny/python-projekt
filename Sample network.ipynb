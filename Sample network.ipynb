{
 "cells": [
  {
   "cell_type": "code",
   "execution_count": 1,
   "metadata": {},
   "outputs": [
    {
     "name": "stdout",
     "output_type": "stream",
     "text": [
      "Populating the interactive namespace from numpy and matplotlib\n"
     ]
    }
   ],
   "source": [
    "%pylab inline"
   ]
  },
  {
   "cell_type": "markdown",
   "metadata": {},
   "source": [
    "# Kurs rozszerzony języka Python\n",
    "## Propozycja projektu: Rozpoznawanie odręcznie napisanych cyfr\n",
    "### 1. Jak zacząć?\n",
    "\n",
    "1\\. Należy ściągnąć i rozpakować dane MNIST (http://yann.lecun.com/exdb/mnist/)\n",
    "\n",
    "2\\. Teraz możemy załadować dane korzystając z załączonego modułu"
   ]
  },
  {
   "cell_type": "code",
   "execution_count": 2,
   "metadata": {
    "collapsed": true
   },
   "outputs": [],
   "source": [
    "from data import Dataset\n",
    "dataset = Dataset('/home/michal/train-images-idx3-ubyte', '/home/michal/train-labels-idx1-ubyte')\n",
    "train_dataset, dev_dataset = dataset.split(0.9)\n",
    "test_dataset  = Dataset('/home/michal/t10k-images-idx3-ubyte', '/home/michal/t10k-labels-idx1-ubyte')"
   ]
  },
  {
   "cell_type": "markdown",
   "metadata": {},
   "source": [
    "3\\. Możemy sprawdzić przykładowe dane"
   ]
  },
  {
   "cell_type": "code",
   "execution_count": 3,
   "metadata": {},
   "outputs": [
    {
     "data": {
      "image/png": "[encoded data removed]",
      "text/plain": [
       "<matplotlib.figure.Figure at 0x7fc73d22a690>"
      ]
     },
     "metadata": {},
     "output_type": "display_data"
    }
   ],
   "source": [
    "f, axarr = plt.subplots(5, 5)\n",
    "\n",
    "for fx in xrange(5):\n",
    "    for fy in xrange(5):\n",
    "        axarr[fx, fy].imshow(test_dataset.data[fx*5 + fy], cmap='gray')\n",
    "        axarr[fx,fy].set_axis_off()"
   ]
  },
  {
   "cell_type": "markdown",
   "metadata": {
    "collapsed": true
   },
   "source": [
    "4\\. Teraz możemy zdefiniować sieć neuronową"
   ]
  },
  {
   "cell_type": "code",
   "execution_count": 4,
   "metadata": {
    "collapsed": true
   },
   "outputs": [],
   "source": [
    "from network import FeedForwardNet, AffineLayer, ReLULayer, SoftMaxLayer"
   ]
  },
  {
   "cell_type": "code",
   "execution_count": 5,
   "metadata": {
    "collapsed": true
   },
   "outputs": [],
   "source": [
    "net = FeedForwardNet([\n",
    "        AffineLayer(784, 1000),\n",
    "        ReLULayer(),\n",
    "        AffineLayer(1000, 10),\n",
    "        SoftMaxLayer()\n",
    "        ])"
   ]
  },
  {
   "cell_type": "markdown",
   "metadata": {},
   "source": [
    "5\\. A następnie możemy ją wyuczyć"
   ]
  },
  {
   "cell_type": "code",
   "execution_count": 6,
   "metadata": {},
   "outputs": [
    {
     "name": "stdout",
     "output_type": "stream",
     "text": [
      "At minibatch 100, batch loss 0.333267, batch error rate 9.375000%\n",
      "At minibatch 200, batch loss 0.814939, batch error rate 21.875000%\n",
      "At minibatch 300, batch loss 0.785578, batch error rate 25.000000%\n",
      "At minibatch 400, batch loss 0.133230, batch error rate 6.250000%\n",
      "At minibatch 500, batch loss 0.136462, batch error rate 3.125000%\n",
      "At minibatch 600, batch loss 0.379655, batch error rate 12.500000%\n",
      "At minibatch 700, batch loss 0.186087, batch error rate 3.125000%\n",
      "At minibatch 800, batch loss 0.204527, batch error rate 6.250000%\n",
      "At minibatch 900, batch loss 0.311874, batch error rate 9.375000%\n",
      "At minibatch 1000, batch loss 0.103691, batch error rate 3.125000%\n",
      "At minibatch 1100, batch loss 0.130006, batch error rate 3.125000%\n",
      "At minibatch 1200, batch loss 0.634735, batch error rate 9.375000%\n",
      "At minibatch 1300, batch loss 0.040131, batch error rate 0.000000%\n",
      "At minibatch 1400, batch loss 0.308506, batch error rate 6.250000%\n",
      "At minibatch 1500, batch loss 0.042417, batch error rate 0.000000%\n",
      "At minibatch 1600, batch loss 0.022030, batch error rate 0.000000%\n",
      "After epoch 1: valid_err_rate: 5.046791% currently going to do 3 epochs\n",
      "At minibatch 1700, batch loss 0.341434, batch error rate 12.500000%\n",
      "At minibatch 1800, batch loss 0.099542, batch error rate 3.125000%\n",
      "At minibatch 1900, batch loss 0.095509, batch error rate 3.125000%\n",
      "At minibatch 2000, batch loss 0.161879, batch error rate 3.125000%\n",
      "At minibatch 2100, batch loss 0.042516, batch error rate 0.000000%\n",
      "At minibatch 2200, batch loss 0.187115, batch error rate 3.125000%\n",
      "At minibatch 2300, batch loss 0.138984, batch error rate 6.250000%\n",
      "At minibatch 2400, batch loss 0.149123, batch error rate 6.250000%\n",
      "At minibatch 2500, batch loss 0.016262, batch error rate 0.000000%\n",
      "At minibatch 2600, batch loss 0.046760, batch error rate 0.000000%\n",
      "At minibatch 2700, batch loss 0.020182, batch error rate 0.000000%\n",
      "At minibatch 2800, batch loss 0.036757, batch error rate 0.000000%\n",
      "At minibatch 2900, batch loss 0.023823, batch error rate 0.000000%\n",
      "At minibatch 3000, batch loss 0.023021, batch error rate 0.000000%\n",
      "At minibatch 3100, batch loss 0.010077, batch error rate 0.000000%\n",
      "At minibatch 3200, batch loss 0.013781, batch error rate 0.000000%\n",
      "At minibatch 3300, batch loss 0.083360, batch error rate 3.125000%\n",
      "After epoch 2: valid_err_rate: 3.275401% currently going to do 4 epochs\n",
      "At minibatch 3400, batch loss 0.018870, batch error rate 0.000000%\n",
      "At minibatch 3500, batch loss 0.058897, batch error rate 0.000000%\n",
      "At minibatch 3600, batch loss 0.086201, batch error rate 3.125000%\n",
      "At minibatch 3700, batch loss 0.013480, batch error rate 0.000000%\n",
      "At minibatch 3800, batch loss 0.048068, batch error rate 0.000000%\n",
      "At minibatch 3900, batch loss 0.034803, batch error rate 3.125000%\n",
      "At minibatch 4000, batch loss 0.208954, batch error rate 9.375000%\n",
      "At minibatch 4100, batch loss 0.034151, batch error rate 0.000000%\n",
      "At minibatch 4200, batch loss 0.013766, batch error rate 0.000000%\n",
      "At minibatch 4300, batch loss 0.223482, batch error rate 9.375000%\n",
      "At minibatch 4400, batch loss 0.067029, batch error rate 0.000000%\n",
      "At minibatch 4500, batch loss 0.035958, batch error rate 0.000000%\n",
      "At minibatch 4600, batch loss 0.103860, batch error rate 3.125000%\n",
      "At minibatch 4700, batch loss 0.045702, batch error rate 0.000000%\n",
      "At minibatch 4800, batch loss 0.094193, batch error rate 3.125000%\n",
      "At minibatch 4900, batch loss 0.085121, batch error rate 3.125000%\n",
      "At minibatch 5000, batch loss 0.010551, batch error rate 0.000000%\n",
      "After epoch 3: valid_err_rate: 2.757353% currently going to do 5 epochs\n",
      "At minibatch 5100, batch loss 0.015023, batch error rate 0.000000%\n",
      "At minibatch 5200, batch loss 0.021170, batch error rate 0.000000%\n",
      "At minibatch 5300, batch loss 0.013576, batch error rate 0.000000%\n",
      "At minibatch 5400, batch loss 0.174013, batch error rate 6.250000%\n",
      "At minibatch 5500, batch loss 0.005531, batch error rate 0.000000%\n",
      "At minibatch 5600, batch loss 0.016601, batch error rate 0.000000%\n",
      "At minibatch 5700, batch loss 0.075208, batch error rate 3.125000%\n",
      "At minibatch 5800, batch loss 0.013683, batch error rate 0.000000%\n",
      "At minibatch 5900, batch loss 0.061176, batch error rate 3.125000%\n",
      "At minibatch 6000, batch loss 0.027106, batch error rate 0.000000%\n",
      "At minibatch 6100, batch loss 0.048074, batch error rate 3.125000%\n",
      "At minibatch 6200, batch loss 0.014055, batch error rate 0.000000%\n",
      "At minibatch 6300, batch loss 0.013939, batch error rate 0.000000%\n",
      "At minibatch 6400, batch loss 0.042399, batch error rate 0.000000%\n",
      "At minibatch 6500, batch loss 0.035098, batch error rate 0.000000%\n",
      "At minibatch 6600, batch loss 0.011702, batch error rate 0.000000%\n",
      "At minibatch 6700, batch loss 0.013018, batch error rate 0.000000%\n",
      "After epoch 4: valid_err_rate: 2.439840% currently going to do 7 epochs\n",
      "At minibatch 6800, batch loss 0.017254, batch error rate 0.000000%\n",
      "At minibatch 6900, batch loss 0.027661, batch error rate 0.000000%\n",
      "At minibatch 7000, batch loss 0.003080, batch error rate 0.000000%\n",
      "At minibatch 7100, batch loss 0.083784, batch error rate 3.125000%\n",
      "At minibatch 7200, batch loss 0.151579, batch error rate 6.250000%\n",
      "At minibatch 7300, batch loss 0.059415, batch error rate 3.125000%\n",
      "At minibatch 7400, batch loss 0.018527, batch error rate 0.000000%\n",
      "At minibatch 7500, batch loss 0.030495, batch error rate 0.000000%\n",
      "At minibatch 7600, batch loss 0.007568, batch error rate 0.000000%\n",
      "At minibatch 7700, batch loss 0.011925, batch error rate 0.000000%\n",
      "At minibatch 7800, batch loss 0.169480, batch error rate 3.125000%\n",
      "At minibatch 7900, batch loss 0.016961, batch error rate 0.000000%\n",
      "At minibatch 8000, batch loss 0.014524, batch error rate 0.000000%\n",
      "At minibatch 8100, batch loss 0.172331, batch error rate 9.375000%\n",
      "At minibatch 8200, batch loss 0.099483, batch error rate 6.250000%\n",
      "At minibatch 8300, batch loss 0.053908, batch error rate 3.125000%\n",
      "At minibatch 8400, batch loss 0.004168, batch error rate 0.000000%\n",
      "After epoch 5: valid_err_rate: 2.389706% currently going to do 8 epochs\n",
      "At minibatch 8500, batch loss 0.093833, batch error rate 6.250000%\n",
      "At minibatch 8600, batch loss 0.017140, batch error rate 0.000000%\n",
      "At minibatch 8700, batch loss 0.073855, batch error rate 3.125000%\n",
      "At minibatch 8800, batch loss 0.052216, batch error rate 3.125000%\n",
      "At minibatch 8900, batch loss 0.026803, batch error rate 3.125000%\n",
      "At minibatch 9000, batch loss 0.039061, batch error rate 3.125000%\n",
      "At minibatch 9100, batch loss 0.018570, batch error rate 0.000000%\n",
      "At minibatch 9200, batch loss 0.099383, batch error rate 3.125000%\n",
      "At minibatch 9300, batch loss 0.020408, batch error rate 0.000000%\n",
      "At minibatch 9400, batch loss 0.026508, batch error rate 0.000000%\n",
      "At minibatch 9500, batch loss 0.067085, batch error rate 3.125000%\n",
      "At minibatch 9600, batch loss 0.016580, batch error rate 0.000000%\n",
      "At minibatch 9700, batch loss 0.021486, batch error rate 0.000000%\n",
      "At minibatch 9800, batch loss 0.025106, batch error rate 0.000000%\n",
      "At minibatch 9900, batch loss 0.002503, batch error rate 0.000000%\n",
      "At minibatch 10000, batch loss 0.019974, batch error rate 0.000000%\n",
      "At minibatch 10100, batch loss 0.035021, batch error rate 3.125000%\n",
      "After epoch 6: valid_err_rate: 2.172460% currently going to do 10 epochs\n",
      "At minibatch 10200, batch loss 0.266540, batch error rate 3.125000%\n",
      "At minibatch 10300, batch loss 0.012031, batch error rate 0.000000%\n",
      "At minibatch 10400, batch loss 0.067277, batch error rate 0.000000%\n",
      "At minibatch 10500, batch loss 0.014128, batch error rate 0.000000%\n",
      "At minibatch 10600, batch loss 0.031461, batch error rate 0.000000%\n",
      "At minibatch 10700, batch loss 0.009953, batch error rate 0.000000%\n",
      "At minibatch 10800, batch loss 0.005913, batch error rate 0.000000%\n",
      "At minibatch 10900, batch loss 0.010208, batch error rate 0.000000%\n",
      "At minibatch 11000, batch loss 0.006708, batch error rate 0.000000%\n",
      "At minibatch 11100, batch loss 0.005528, batch error rate 0.000000%\n",
      "At minibatch 11200, batch loss 0.025217, batch error rate 0.000000%\n",
      "At minibatch 11300, batch loss 0.107737, batch error rate 6.250000%\n",
      "At minibatch 11400, batch loss 0.009837, batch error rate 0.000000%\n",
      "At minibatch 11500, batch loss 0.032927, batch error rate 0.000000%\n",
      "At minibatch 11600, batch loss 0.144413, batch error rate 3.125000%\n"
     ]
    },
    {
     "name": "stdout",
     "output_type": "stream",
     "text": [
      "At minibatch 11700, batch loss 0.009957, batch error rate 0.000000%\n",
      "At minibatch 11800, batch loss 0.025374, batch error rate 0.000000%\n",
      "After epoch 7: valid_err_rate: 2.088904% currently going to do 11 epochs\n",
      "At minibatch 11900, batch loss 0.006798, batch error rate 0.000000%\n",
      "At minibatch 12000, batch loss 0.004376, batch error rate 0.000000%\n",
      "At minibatch 12100, batch loss 0.014029, batch error rate 0.000000%\n",
      "At minibatch 12200, batch loss 0.021257, batch error rate 0.000000%\n",
      "At minibatch 12300, batch loss 0.009885, batch error rate 0.000000%\n",
      "At minibatch 12400, batch loss 0.004488, batch error rate 0.000000%\n",
      "At minibatch 12500, batch loss 0.011277, batch error rate 0.000000%\n",
      "At minibatch 12600, batch loss 0.043312, batch error rate 0.000000%\n",
      "At minibatch 12700, batch loss 0.050377, batch error rate 3.125000%\n",
      "At minibatch 12800, batch loss 0.006091, batch error rate 0.000000%\n",
      "At minibatch 12900, batch loss 0.049259, batch error rate 3.125000%\n",
      "At minibatch 13000, batch loss 0.004189, batch error rate 0.000000%\n",
      "At minibatch 13100, batch loss 0.044417, batch error rate 3.125000%\n",
      "At minibatch 13200, batch loss 0.004203, batch error rate 0.000000%\n",
      "At minibatch 13300, batch loss 0.005897, batch error rate 0.000000%\n",
      "At minibatch 13400, batch loss 0.001918, batch error rate 0.000000%\n",
      "After epoch 8: valid_err_rate: 2.055481% currently going to do 13 epochs\n",
      "At minibatch 13500, batch loss 0.018919, batch error rate 0.000000%\n",
      "At minibatch 13600, batch loss 0.000892, batch error rate 0.000000%\n",
      "At minibatch 13700, batch loss 0.007273, batch error rate 0.000000%\n",
      "At minibatch 13800, batch loss 0.005575, batch error rate 0.000000%\n",
      "At minibatch 13900, batch loss 0.004572, batch error rate 0.000000%\n",
      "At minibatch 14000, batch loss 0.114343, batch error rate 3.125000%\n",
      "At minibatch 14100, batch loss 0.020932, batch error rate 0.000000%\n",
      "At minibatch 14200, batch loss 0.008188, batch error rate 0.000000%\n",
      "At minibatch 14300, batch loss 0.003760, batch error rate 0.000000%\n",
      "At minibatch 14400, batch loss 0.203354, batch error rate 6.250000%\n",
      "At minibatch 14500, batch loss 0.012762, batch error rate 0.000000%\n",
      "At minibatch 14600, batch loss 0.016696, batch error rate 0.000000%\n",
      "At minibatch 14700, batch loss 0.005269, batch error rate 0.000000%\n",
      "At minibatch 14800, batch loss 0.067082, batch error rate 3.125000%\n",
      "At minibatch 14900, batch loss 0.001551, batch error rate 0.000000%\n",
      "At minibatch 15000, batch loss 0.007477, batch error rate 0.000000%\n",
      "At minibatch 15100, batch loss 0.014379, batch error rate 0.000000%\n",
      "After epoch 9: valid_err_rate: 2.055481% currently going to do 13 epochs\n",
      "At minibatch 15200, batch loss 0.010394, batch error rate 0.000000%\n",
      "At minibatch 15300, batch loss 0.004846, batch error rate 0.000000%\n",
      "At minibatch 15400, batch loss 0.007555, batch error rate 0.000000%\n",
      "At minibatch 15500, batch loss 0.002572, batch error rate 0.000000%\n",
      "At minibatch 15600, batch loss 0.005526, batch error rate 0.000000%\n",
      "At minibatch 15700, batch loss 0.022114, batch error rate 0.000000%\n",
      "At minibatch 15800, batch loss 0.006068, batch error rate 0.000000%\n",
      "At minibatch 15900, batch loss 0.005186, batch error rate 0.000000%\n",
      "At minibatch 16000, batch loss 0.027071, batch error rate 0.000000%\n",
      "At minibatch 16100, batch loss 0.004839, batch error rate 0.000000%\n",
      "At minibatch 16200, batch loss 0.003826, batch error rate 0.000000%\n",
      "At minibatch 16300, batch loss 0.012255, batch error rate 0.000000%\n",
      "At minibatch 16400, batch loss 0.005093, batch error rate 0.000000%\n",
      "At minibatch 16500, batch loss 0.006313, batch error rate 0.000000%\n",
      "At minibatch 16600, batch loss 0.024935, batch error rate 0.000000%\n",
      "At minibatch 16700, batch loss 0.009448, batch error rate 0.000000%\n",
      "At minibatch 16800, batch loss 0.002450, batch error rate 0.000000%\n",
      "After epoch 10: valid_err_rate: 1.971925% currently going to do 16 epochs\n",
      "At minibatch 16900, batch loss 0.039434, batch error rate 0.000000%\n",
      "At minibatch 17000, batch loss 0.005364, batch error rate 0.000000%\n",
      "At minibatch 17100, batch loss 0.009930, batch error rate 0.000000%\n",
      "At minibatch 17200, batch loss 0.004821, batch error rate 0.000000%\n",
      "At minibatch 17300, batch loss 0.008792, batch error rate 0.000000%\n",
      "At minibatch 17400, batch loss 0.003434, batch error rate 0.000000%\n",
      "At minibatch 17500, batch loss 0.006518, batch error rate 0.000000%\n",
      "At minibatch 17600, batch loss 0.011215, batch error rate 0.000000%\n",
      "At minibatch 17700, batch loss 0.003552, batch error rate 0.000000%\n",
      "At minibatch 17800, batch loss 0.012091, batch error rate 0.000000%\n",
      "At minibatch 17900, batch loss 0.017399, batch error rate 0.000000%\n",
      "At minibatch 18000, batch loss 0.005848, batch error rate 0.000000%\n",
      "At minibatch 18100, batch loss 0.004902, batch error rate 0.000000%\n",
      "At minibatch 18200, batch loss 0.002991, batch error rate 0.000000%\n",
      "At minibatch 18300, batch loss 0.022561, batch error rate 0.000000%\n",
      "At minibatch 18400, batch loss 0.030683, batch error rate 0.000000%\n",
      "At minibatch 18500, batch loss 0.003244, batch error rate 0.000000%\n",
      "After epoch 11: valid_err_rate: 1.971925% currently going to do 16 epochs\n",
      "At minibatch 18600, batch loss 0.025411, batch error rate 0.000000%\n",
      "At minibatch 18700, batch loss 0.014606, batch error rate 0.000000%\n",
      "At minibatch 18800, batch loss 0.049009, batch error rate 0.000000%\n",
      "At minibatch 18900, batch loss 0.040600, batch error rate 3.125000%\n",
      "At minibatch 19000, batch loss 0.005304, batch error rate 0.000000%\n",
      "At minibatch 19100, batch loss 0.018558, batch error rate 0.000000%\n",
      "At minibatch 19200, batch loss 0.023783, batch error rate 0.000000%\n",
      "At minibatch 19300, batch loss 0.004700, batch error rate 0.000000%\n",
      "At minibatch 19400, batch loss 0.002409, batch error rate 0.000000%\n",
      "At minibatch 19500, batch loss 0.003973, batch error rate 0.000000%\n",
      "At minibatch 19600, batch loss 0.006023, batch error rate 0.000000%\n",
      "At minibatch 19700, batch loss 0.002305, batch error rate 0.000000%\n",
      "At minibatch 19800, batch loss 0.004139, batch error rate 0.000000%\n",
      "At minibatch 19900, batch loss 0.014794, batch error rate 0.000000%\n",
      "At minibatch 20000, batch loss 0.008485, batch error rate 0.000000%\n",
      "At minibatch 20100, batch loss 0.005749, batch error rate 0.000000%\n",
      "At minibatch 20200, batch loss 0.012716, batch error rate 0.000000%\n",
      "After epoch 12: valid_err_rate: 1.938503% currently going to do 19 epochs\n",
      "At minibatch 20300, batch loss 0.092320, batch error rate 3.125000%\n",
      "At minibatch 20400, batch loss 0.001996, batch error rate 0.000000%\n",
      "At minibatch 20500, batch loss 0.021926, batch error rate 0.000000%\n",
      "At minibatch 20600, batch loss 0.000763, batch error rate 0.000000%\n",
      "At minibatch 20700, batch loss 0.021121, batch error rate 0.000000%\n",
      "At minibatch 20800, batch loss 0.004767, batch error rate 0.000000%\n",
      "At minibatch 20900, batch loss 0.000542, batch error rate 0.000000%\n",
      "At minibatch 21000, batch loss 0.009341, batch error rate 0.000000%\n",
      "At minibatch 21100, batch loss 0.013601, batch error rate 0.000000%\n",
      "At minibatch 21200, batch loss 0.013632, batch error rate 0.000000%\n",
      "At minibatch 21300, batch loss 0.006504, batch error rate 0.000000%\n",
      "At minibatch 21400, batch loss 0.024011, batch error rate 0.000000%\n",
      "At minibatch 21500, batch loss 0.003286, batch error rate 0.000000%\n",
      "At minibatch 21600, batch loss 0.003561, batch error rate 0.000000%\n",
      "At minibatch 21700, batch loss 0.004588, batch error rate 0.000000%\n",
      "At minibatch 21800, batch loss 0.004575, batch error rate 0.000000%\n",
      "At minibatch 21900, batch loss 0.002599, batch error rate 0.000000%\n",
      "After epoch 13: valid_err_rate: 1.905080% currently going to do 20 epochs\n",
      "At minibatch 22000, batch loss 0.002393, batch error rate 0.000000%\n",
      "At minibatch 22100, batch loss 0.005168, batch error rate 0.000000%\n",
      "At minibatch 22200, batch loss 0.014773, batch error rate 0.000000%\n",
      "At minibatch 22300, batch loss 0.013478, batch error rate 0.000000%\n",
      "At minibatch 22400, batch loss 0.022118, batch error rate 0.000000%\n",
      "At minibatch 22500, batch loss 0.018898, batch error rate 0.000000%\n",
      "At minibatch 22600, batch loss 0.013664, batch error rate 0.000000%\n",
      "At minibatch 22700, batch loss 0.001263, batch error rate 0.000000%\n",
      "At minibatch 22800, batch loss 0.002767, batch error rate 0.000000%\n",
      "At minibatch 22900, batch loss 0.004215, batch error rate 0.000000%\n"
     ]
    },
    {
     "name": "stdout",
     "output_type": "stream",
     "text": [
      "At minibatch 23000, batch loss 0.020388, batch error rate 0.000000%\n",
      "At minibatch 23100, batch loss 0.007049, batch error rate 0.000000%\n",
      "At minibatch 23200, batch loss 0.014810, batch error rate 0.000000%\n",
      "At minibatch 23300, batch loss 0.022210, batch error rate 0.000000%\n",
      "At minibatch 23400, batch loss 0.021774, batch error rate 0.000000%\n",
      "At minibatch 23500, batch loss 0.022170, batch error rate 0.000000%\n",
      "At minibatch 23600, batch loss 0.003037, batch error rate 0.000000%\n",
      "After epoch 14: valid_err_rate: 1.838235% currently going to do 22 epochs\n",
      "At minibatch 23700, batch loss 0.010664, batch error rate 0.000000%\n",
      "At minibatch 23800, batch loss 0.003529, batch error rate 0.000000%\n",
      "At minibatch 23900, batch loss 0.010009, batch error rate 0.000000%\n",
      "At minibatch 24000, batch loss 0.006052, batch error rate 0.000000%\n",
      "At minibatch 24100, batch loss 0.033658, batch error rate 3.125000%\n",
      "At minibatch 24200, batch loss 0.013706, batch error rate 0.000000%\n",
      "At minibatch 24300, batch loss 0.041086, batch error rate 3.125000%\n",
      "At minibatch 24400, batch loss 0.003989, batch error rate 0.000000%\n",
      "At minibatch 24500, batch loss 0.005242, batch error rate 0.000000%\n",
      "At minibatch 24600, batch loss 0.007031, batch error rate 0.000000%\n",
      "At minibatch 24700, batch loss 0.004082, batch error rate 0.000000%\n",
      "At minibatch 24800, batch loss 0.032843, batch error rate 0.000000%\n",
      "At minibatch 24900, batch loss 0.013682, batch error rate 0.000000%\n",
      "At minibatch 25000, batch loss 0.005452, batch error rate 0.000000%\n",
      "At minibatch 25100, batch loss 0.000244, batch error rate 0.000000%\n",
      "At minibatch 25200, batch loss 0.008431, batch error rate 0.000000%\n",
      "At minibatch 25300, batch loss 0.002385, batch error rate 0.000000%\n",
      "After epoch 15: valid_err_rate: 1.854947% currently going to do 22 epochs\n",
      "At minibatch 25400, batch loss 0.023564, batch error rate 0.000000%\n",
      "At minibatch 25500, batch loss 0.011998, batch error rate 0.000000%\n",
      "At minibatch 25600, batch loss 0.009795, batch error rate 0.000000%\n",
      "At minibatch 25700, batch loss 0.040504, batch error rate 3.125000%\n",
      "At minibatch 25800, batch loss 0.031700, batch error rate 3.125000%\n",
      "At minibatch 25900, batch loss 0.015367, batch error rate 0.000000%\n",
      "At minibatch 26000, batch loss 0.002778, batch error rate 0.000000%\n",
      "At minibatch 26100, batch loss 0.009805, batch error rate 0.000000%\n",
      "At minibatch 26200, batch loss 0.023967, batch error rate 0.000000%\n",
      "At minibatch 26300, batch loss 0.000368, batch error rate 0.000000%\n",
      "At minibatch 26400, batch loss 0.009483, batch error rate 0.000000%\n",
      "At minibatch 26500, batch loss 0.006842, batch error rate 0.000000%\n",
      "At minibatch 26600, batch loss 0.022596, batch error rate 0.000000%\n",
      "At minibatch 26700, batch loss 0.010457, batch error rate 0.000000%\n",
      "At minibatch 26800, batch loss 0.001892, batch error rate 0.000000%\n",
      "At minibatch 26900, batch loss 0.008691, batch error rate 0.000000%\n",
      "After epoch 16: valid_err_rate: 1.821524% currently going to do 25 epochs\n",
      "At minibatch 27000, batch loss 0.006162, batch error rate 0.000000%\n",
      "At minibatch 27100, batch loss 0.004855, batch error rate 0.000000%\n",
      "At minibatch 27200, batch loss 0.001117, batch error rate 0.000000%\n",
      "At minibatch 27300, batch loss 0.000598, batch error rate 0.000000%\n",
      "At minibatch 27400, batch loss 0.009498, batch error rate 0.000000%\n",
      "At minibatch 27500, batch loss 0.003821, batch error rate 0.000000%\n",
      "At minibatch 27600, batch loss 0.000984, batch error rate 0.000000%\n",
      "At minibatch 27700, batch loss 0.007615, batch error rate 0.000000%\n",
      "At minibatch 27800, batch loss 0.005993, batch error rate 0.000000%\n",
      "At minibatch 27900, batch loss 0.017489, batch error rate 0.000000%\n",
      "At minibatch 28000, batch loss 0.020609, batch error rate 0.000000%\n",
      "At minibatch 28100, batch loss 0.011688, batch error rate 0.000000%\n",
      "At minibatch 28200, batch loss 0.049616, batch error rate 3.125000%\n",
      "At minibatch 28300, batch loss 0.006554, batch error rate 0.000000%\n",
      "At minibatch 28400, batch loss 0.011983, batch error rate 0.000000%\n",
      "At minibatch 28500, batch loss 0.017405, batch error rate 0.000000%\n",
      "At minibatch 28600, batch loss 0.019011, batch error rate 0.000000%\n",
      "After epoch 17: valid_err_rate: 1.821524% currently going to do 25 epochs\n",
      "At minibatch 28700, batch loss 0.013258, batch error rate 0.000000%\n",
      "At minibatch 28800, batch loss 0.009554, batch error rate 0.000000%\n",
      "At minibatch 28900, batch loss 0.006792, batch error rate 0.000000%\n",
      "At minibatch 29000, batch loss 0.016108, batch error rate 0.000000%\n",
      "At minibatch 29100, batch loss 0.002893, batch error rate 0.000000%\n",
      "At minibatch 29200, batch loss 0.006728, batch error rate 0.000000%\n",
      "At minibatch 29300, batch loss 0.013641, batch error rate 0.000000%\n",
      "At minibatch 29400, batch loss 0.005710, batch error rate 0.000000%\n",
      "At minibatch 29500, batch loss 0.000742, batch error rate 0.000000%\n",
      "At minibatch 29600, batch loss 0.001207, batch error rate 0.000000%\n",
      "At minibatch 29700, batch loss 0.003884, batch error rate 0.000000%\n",
      "At minibatch 29800, batch loss 0.003900, batch error rate 0.000000%\n",
      "At minibatch 29900, batch loss 0.027724, batch error rate 0.000000%\n",
      "At minibatch 30000, batch loss 0.005859, batch error rate 0.000000%\n",
      "At minibatch 30100, batch loss 0.005902, batch error rate 0.000000%\n",
      "At minibatch 30200, batch loss 0.021158, batch error rate 0.000000%\n",
      "At minibatch 30300, batch loss 0.011753, batch error rate 0.000000%\n",
      "After epoch 18: valid_err_rate: 1.838235% currently going to do 25 epochs\n",
      "At minibatch 30400, batch loss 0.007111, batch error rate 0.000000%\n",
      "At minibatch 30500, batch loss 0.002481, batch error rate 0.000000%\n",
      "At minibatch 30600, batch loss 0.015126, batch error rate 0.000000%\n",
      "At minibatch 30700, batch loss 0.005996, batch error rate 0.000000%\n",
      "At minibatch 30800, batch loss 0.003410, batch error rate 0.000000%\n",
      "At minibatch 30900, batch loss 0.003966, batch error rate 0.000000%\n",
      "At minibatch 31000, batch loss 0.008003, batch error rate 0.000000%\n",
      "At minibatch 31100, batch loss 0.001118, batch error rate 0.000000%\n",
      "At minibatch 31200, batch loss 0.014858, batch error rate 0.000000%\n",
      "At minibatch 31300, batch loss 0.059483, batch error rate 3.125000%\n",
      "At minibatch 31400, batch loss 0.012043, batch error rate 0.000000%\n",
      "At minibatch 31500, batch loss 0.010386, batch error rate 0.000000%\n",
      "At minibatch 31600, batch loss 0.003454, batch error rate 0.000000%\n",
      "At minibatch 31700, batch loss 0.004608, batch error rate 0.000000%\n",
      "At minibatch 31800, batch loss 0.000966, batch error rate 0.000000%\n",
      "At minibatch 31900, batch loss 0.002449, batch error rate 0.000000%\n",
      "At minibatch 32000, batch loss 0.004889, batch error rate 0.000000%\n",
      "After epoch 19: valid_err_rate: 1.838235% currently going to do 25 epochs\n",
      "At minibatch 32100, batch loss 0.005885, batch error rate 0.000000%\n",
      "At minibatch 32200, batch loss 0.027217, batch error rate 0.000000%\n",
      "At minibatch 32300, batch loss 0.005601, batch error rate 0.000000%\n",
      "At minibatch 32400, batch loss 0.000855, batch error rate 0.000000%\n",
      "At minibatch 32500, batch loss 0.002379, batch error rate 0.000000%\n",
      "At minibatch 32600, batch loss 0.002075, batch error rate 0.000000%\n",
      "At minibatch 32700, batch loss 0.002520, batch error rate 0.000000%\n",
      "At minibatch 32800, batch loss 0.009404, batch error rate 0.000000%\n",
      "At minibatch 32900, batch loss 0.009010, batch error rate 0.000000%\n",
      "At minibatch 33000, batch loss 0.003032, batch error rate 0.000000%\n",
      "At minibatch 33100, batch loss 0.001207, batch error rate 0.000000%\n",
      "At minibatch 33200, batch loss 0.001850, batch error rate 0.000000%\n",
      "At minibatch 33300, batch loss 0.008442, batch error rate 0.000000%\n",
      "At minibatch 33400, batch loss 0.002458, batch error rate 0.000000%\n",
      "At minibatch 33500, batch loss 0.012052, batch error rate 0.000000%\n",
      "At minibatch 33600, batch loss 0.001798, batch error rate 0.000000%\n",
      "At minibatch 33700, batch loss 0.011571, batch error rate 0.000000%\n",
      "After epoch 20: valid_err_rate: 1.838235% currently going to do 25 epochs\n",
      "At minibatch 33800, batch loss 0.003871, batch error rate 0.000000%\n",
      "At minibatch 33900, batch loss 0.002929, batch error rate 0.000000%\n",
      "At minibatch 34000, batch loss 0.023255, batch error rate 0.000000%\n",
      "At minibatch 34100, batch loss 0.011873, batch error rate 0.000000%\n",
      "At minibatch 34200, batch loss 0.020016, batch error rate 0.000000%\n"
     ]
    },
    {
     "name": "stdout",
     "output_type": "stream",
     "text": [
      "At minibatch 34300, batch loss 0.000756, batch error rate 0.000000%\n",
      "At minibatch 34400, batch loss 0.052146, batch error rate 3.125000%\n",
      "At minibatch 34500, batch loss 0.009203, batch error rate 0.000000%\n",
      "At minibatch 34600, batch loss 0.000465, batch error rate 0.000000%\n",
      "At minibatch 34700, batch loss 0.001409, batch error rate 0.000000%\n",
      "At minibatch 34800, batch loss 0.005773, batch error rate 0.000000%\n",
      "At minibatch 34900, batch loss 0.016744, batch error rate 0.000000%\n",
      "At minibatch 35000, batch loss 0.001892, batch error rate 0.000000%\n",
      "At minibatch 35100, batch loss 0.005330, batch error rate 0.000000%\n",
      "At minibatch 35200, batch loss 0.001114, batch error rate 0.000000%\n",
      "At minibatch 35300, batch loss 0.001127, batch error rate 0.000000%\n",
      "At minibatch 35400, batch loss 0.001586, batch error rate 0.000000%\n",
      "After epoch 21: valid_err_rate: 1.838235% currently going to do 25 epochs\n",
      "At minibatch 35500, batch loss 0.009225, batch error rate 0.000000%\n",
      "At minibatch 35600, batch loss 0.000746, batch error rate 0.000000%\n",
      "At minibatch 35700, batch loss 0.014196, batch error rate 0.000000%\n",
      "At minibatch 35800, batch loss 0.009037, batch error rate 0.000000%\n",
      "At minibatch 35900, batch loss 0.108001, batch error rate 3.125000%\n",
      "At minibatch 36000, batch loss 0.012232, batch error rate 0.000000%\n",
      "At minibatch 36100, batch loss 0.003709, batch error rate 0.000000%\n",
      "At minibatch 36200, batch loss 0.011432, batch error rate 0.000000%\n",
      "At minibatch 36300, batch loss 0.006564, batch error rate 0.000000%\n",
      "At minibatch 36400, batch loss 0.002122, batch error rate 0.000000%\n",
      "At minibatch 36500, batch loss 0.014377, batch error rate 0.000000%\n",
      "At minibatch 36600, batch loss 0.006688, batch error rate 0.000000%\n",
      "At minibatch 36700, batch loss 0.009423, batch error rate 0.000000%\n",
      "At minibatch 36800, batch loss 0.001007, batch error rate 0.000000%\n",
      "At minibatch 36900, batch loss 0.006706, batch error rate 0.000000%\n",
      "At minibatch 37000, batch loss 0.003274, batch error rate 0.000000%\n",
      "At minibatch 37100, batch loss 0.015180, batch error rate 0.000000%\n",
      "After epoch 22: valid_err_rate: 1.854947% currently going to do 25 epochs\n",
      "At minibatch 37200, batch loss 0.006729, batch error rate 0.000000%\n",
      "At minibatch 37300, batch loss 0.004885, batch error rate 0.000000%\n",
      "At minibatch 37400, batch loss 0.004236, batch error rate 0.000000%\n",
      "At minibatch 37500, batch loss 0.001358, batch error rate 0.000000%\n",
      "At minibatch 37600, batch loss 0.007592, batch error rate 0.000000%\n",
      "At minibatch 37700, batch loss 0.000192, batch error rate 0.000000%\n",
      "At minibatch 37800, batch loss 0.003999, batch error rate 0.000000%\n",
      "At minibatch 37900, batch loss 0.000510, batch error rate 0.000000%\n",
      "At minibatch 38000, batch loss 0.006323, batch error rate 0.000000%\n",
      "At minibatch 38100, batch loss 0.013568, batch error rate 0.000000%\n",
      "At minibatch 38200, batch loss 0.003833, batch error rate 0.000000%\n",
      "At minibatch 38300, batch loss 0.007790, batch error rate 0.000000%\n",
      "At minibatch 38400, batch loss 0.007504, batch error rate 0.000000%\n",
      "At minibatch 38500, batch loss 0.014128, batch error rate 0.000000%\n",
      "At minibatch 38600, batch loss 0.012977, batch error rate 0.000000%\n",
      "At minibatch 38700, batch loss 0.002462, batch error rate 0.000000%\n",
      "At minibatch 38800, batch loss 0.005856, batch error rate 0.000000%\n",
      "After epoch 23: valid_err_rate: 1.871658% currently going to do 25 epochs\n",
      "At minibatch 38900, batch loss 0.011182, batch error rate 0.000000%\n",
      "At minibatch 39000, batch loss 0.001142, batch error rate 0.000000%\n",
      "At minibatch 39100, batch loss 0.015901, batch error rate 0.000000%\n",
      "At minibatch 39200, batch loss 0.009866, batch error rate 0.000000%\n",
      "At minibatch 39300, batch loss 0.001818, batch error rate 0.000000%\n",
      "At minibatch 39400, batch loss 0.010897, batch error rate 0.000000%\n",
      "At minibatch 39500, batch loss 0.006227, batch error rate 0.000000%\n",
      "At minibatch 39600, batch loss 0.018020, batch error rate 0.000000%\n",
      "At minibatch 39700, batch loss 0.032961, batch error rate 0.000000%\n",
      "At minibatch 39800, batch loss 0.005599, batch error rate 0.000000%\n",
      "At minibatch 39900, batch loss 0.003867, batch error rate 0.000000%\n",
      "At minibatch 40000, batch loss 0.004760, batch error rate 0.000000%\n",
      "At minibatch 40100, batch loss 0.003130, batch error rate 0.000000%\n",
      "At minibatch 40200, batch loss 0.004464, batch error rate 0.000000%\n",
      "At minibatch 40300, batch loss 0.017408, batch error rate 0.000000%\n",
      "At minibatch 40400, batch loss 0.011351, batch error rate 0.000000%\n",
      "After epoch 24: valid_err_rate: 1.871658% currently going to do 25 epochs\n",
      "At minibatch 40500, batch loss 0.003264, batch error rate 0.000000%\n",
      "At minibatch 40600, batch loss 0.003622, batch error rate 0.000000%\n",
      "At minibatch 40700, batch loss 0.005881, batch error rate 0.000000%\n",
      "At minibatch 40800, batch loss 0.007033, batch error rate 0.000000%\n",
      "At minibatch 40900, batch loss 0.017408, batch error rate 0.000000%\n",
      "At minibatch 41000, batch loss 0.006170, batch error rate 0.000000%\n",
      "At minibatch 41100, batch loss 0.001672, batch error rate 0.000000%\n",
      "At minibatch 41200, batch loss 0.003735, batch error rate 0.000000%\n",
      "At minibatch 41300, batch loss 0.003873, batch error rate 0.000000%\n",
      "At minibatch 41400, batch loss 0.007117, batch error rate 0.000000%\n",
      "At minibatch 41500, batch loss 0.007693, batch error rate 0.000000%\n",
      "At minibatch 41600, batch loss 0.008996, batch error rate 0.000000%\n",
      "At minibatch 41700, batch loss 0.021119, batch error rate 0.000000%\n",
      "At minibatch 41800, batch loss 0.008859, batch error rate 0.000000%\n",
      "At minibatch 41900, batch loss 0.005503, batch error rate 0.000000%\n",
      "At minibatch 42000, batch loss 0.000339, batch error rate 0.000000%\n",
      "At minibatch 42100, batch loss 0.003991, batch error rate 0.000000%\n",
      "After epoch 25: valid_err_rate: 1.871658% currently going to do 25 epochs\n"
     ]
    }
   ],
   "source": [
    "from trainer import SGD\n",
    "SGD(net, train_dataset, dev_dataset)"
   ]
  },
  {
   "cell_type": "code",
   "execution_count": 7,
   "metadata": {},
   "outputs": [
    {
     "data": {
      "text/plain": [
       "0.019731570512820512"
      ]
     },
     "execution_count": 7,
     "metadata": {},
     "output_type": "execute_result"
    }
   ],
   "source": [
    "from trainer import compute_error_rate\n",
    "compute_error_rate(net, test_dataset)"
   ]
  },
  {
   "cell_type": "markdown",
   "metadata": {},
   "source": [
    "6\\. A teraz damy jakiś przykład do rozpoznania dla sieci "
   ]
  },
  {
   "cell_type": "code",
   "execution_count": 182,
   "metadata": {
    "collapsed": true
   },
   "outputs": [],
   "source": [
    "image = test_dataset.data[0]\n"
   ]
  },
  {
   "cell_type": "code",
   "execution_count": 183,
   "metadata": {},
   "outputs": [
    {
     "data": {
      "text/plain": [
       "(28, 28)"
      ]
     },
     "execution_count": 183,
     "metadata": {},
     "output_type": "execute_result"
    }
   ],
   "source": [
    "image.shape"
   ]
  },
  {
   "cell_type": "code",
   "execution_count": 184,
   "metadata": {},
   "outputs": [
    {
     "data": {
      "text/plain": [
       "<matplotlib.image.AxesImage at 0x7fc73208cfd0>"
      ]
     },
     "execution_count": 184,
     "metadata": {},
     "output_type": "execute_result"
    },
    {
     "data": {
      "image/png": "[encoded data removed]",
      "text/plain": [
       "<matplotlib.figure.Figure at 0x7fc732162250>"
      ]
     },
     "metadata": {},
     "output_type": "display_data"
    }
   ],
   "source": [
    "imshow(image, cmap='gray')"
   ]
  },
  {
   "cell_type": "code",
   "execution_count": 187,
   "metadata": {},
   "outputs": [
    {
     "name": "stdout",
     "output_type": "stream",
     "text": [
      "[[ 0.14840429]\n",
      " [ 0.00114732]\n",
      " [ 0.00345779]\n",
      " [ 0.0021249 ]\n",
      " [ 0.04625694]\n",
      " [ 0.18121032]\n",
      " [ 0.05466496]\n",
      " [ 0.53543139]\n",
      " [ 0.01454817]\n",
      " [ 0.01275401]]\n"
     ]
    }
   ],
   "source": [
    "result = net.fprop(bwimage.ravel()[:, np.newaxis])\n",
    "print(result)"
   ]
  },
  {
   "cell_type": "code",
   "execution_count": 186,
   "metadata": {},
   "outputs": [
    {
     "data": {
      "text/plain": [
       "<Container object of 10 artists>"
      ]
     },
     "execution_count": 186,
     "metadata": {},
     "output_type": "execute_result"
    },
    {
     "data": {
      "image/png": "[encoded data removed]",
      "text/plain": [
       "<matplotlib.figure.Figure at 0x7fc7320b8350>"
      ]
     },
     "metadata": {},
     "output_type": "display_data"
    }
   ],
   "source": [
    "bar(arange(10), result[:,0])"
   ]
  },
  {
   "cell_type": "code",
   "execution_count": null,
   "metadata": {
    "collapsed": true
   },
   "outputs": [],
   "source": []
  }
 ],
 "metadata": {
  "kernelspec": {
   "display_name": "Python 2",
   "language": "python2",
   "name": "python2"
  },
  "language_info": {
   "codemirror_mode": {
    "name": "ipython",
    "version": 2
   },
   "file_extension": ".py",
   "mimetype": "text/x-python",
   "name": "python",
   "nbconvert_exporter": "python",
   "pygments_lexer": "ipython2",
   "version": "2.7.14"
  }
 },
 "nbformat": 4,
 "nbformat_minor": 2
}
