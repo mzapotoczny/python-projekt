{
 "cells": [
  {
   "cell_type": "code",
   "execution_count": 1,
   "metadata": {},
   "outputs": [
    {
     "name": "stdout",
     "output_type": "stream",
     "text": [
      "Populating the interactive namespace from numpy and matplotlib\n"
     ]
    }
   ],
   "source": [
    "%pylab inline"
   ]
  },
  {
   "cell_type": "markdown",
   "metadata": {},
   "source": [
    "# Kurs rozszerzony języka Python\n",
    "## Propozycja projektu: Rozpoznawanie odręcznie napisanych cyfr\n",
    "### Kod zaczerpnięty z [kursu sieci neuronowych](https://sites.google.com/a/cs.uni.wroc.pl/jch/teaching/nnets)\n",
    "### 1. Jak zacząć?\n",
    "\n",
    "1\\. Należy ściągnąć i rozpakować dane MNIST (http://yann.lecun.com/exdb/mnist/)\n",
    "\n",
    "2\\. Teraz możemy załadować dane korzystając z załączonego modułu"
   ]
  },
  {
   "cell_type": "code",
   "execution_count": 2,
   "metadata": {
    "collapsed": true
   },
   "outputs": [],
   "source": [
    "from data import Dataset\n",
    "dataset = Dataset('/home/i248100/train-images-idx3-ubyte', '/home/i248100/train-labels-idx1-ubyte')\n",
    "train_dataset, dev_dataset = dataset.split(0.9)\n",
    "test_dataset  = Dataset('/home/i248100/t10k-images-idx3-ubyte', '/home/i248100/t10k-labels-idx1-ubyte')"
   ]
  },
  {
   "cell_type": "markdown",
   "metadata": {},
   "source": [
    "3\\. Możemy sprawdzić przykładowe dane"
   ]
  },
  {
   "cell_type": "code",
   "execution_count": 3,
   "metadata": {},
   "outputs": [
    {
     "data": {
      "image/png": "[encoded data removed]",
      "text/plain": [
       "<matplotlib.figure.Figure at 0x7efc9dc0b750>"
      ]
     },
     "metadata": {},
     "output_type": "display_data"
    }
   ],
   "source": [
    "f, axarr = plt.subplots(5, 5)\n",
    "\n",
    "for fx in xrange(5):\n",
    "    for fy in xrange(5):\n",
    "        axarr[fx, fy].imshow(test_dataset.data[fx*5 + fy], cmap='gray')\n",
    "        axarr[fx,fy].set_axis_off()"
   ]
  },
  {
   "cell_type": "markdown",
   "metadata": {
    "collapsed": true
   },
   "source": [
    "4\\. Teraz możemy zdefiniować sieć neuronową"
   ]
  },
  {
   "cell_type": "code",
   "execution_count": 4,
   "metadata": {
    "collapsed": true
   },
   "outputs": [],
   "source": [
    "from network import FeedForwardNet, AffineLayer, ReLULayer, SoftMaxLayer"
   ]
  },
  {
   "cell_type": "code",
   "execution_count": 31,
   "metadata": {
    "collapsed": true
   },
   "outputs": [],
   "source": [
    "net = FeedForwardNet([\n",
    "        AffineLayer(784, 1000),\n",
    "        ReLULayer(),\n",
    "        AffineLayer(1000, 500),\n",
    "        ReLULayer(),\n",
    "        AffineLayer(500, 10),\n",
    "        SoftMaxLayer()\n",
    "        ])"
   ]
  },
  {
   "cell_type": "markdown",
   "metadata": {},
   "source": [
    "5\\. A następnie możemy ją wyuczyć"
   ]
  },
  {
   "cell_type": "code",
   "execution_count": 32,
   "metadata": {},
   "outputs": [
    {
     "name": "stdout",
     "output_type": "stream",
     "text": [
      "At minibatch 100, batch loss 1.366394, batch error rate 40.625000%\n",
      "At minibatch 200, batch loss 0.265215, batch error rate 9.375000%\n",
      "At minibatch 300, batch loss 0.288051, batch error rate 9.375000%\n",
      "At minibatch 400, batch loss 0.239003, batch error rate 3.125000%\n",
      "At minibatch 500, batch loss 0.644905, batch error rate 12.500000%\n",
      "At minibatch 600, batch loss 0.313076, batch error rate 6.250000%\n",
      "At minibatch 700, batch loss 0.604138, batch error rate 15.625000%\n",
      "At minibatch 800, batch loss 0.244512, batch error rate 3.125000%\n",
      "At minibatch 900, batch loss 0.224041, batch error rate 3.125000%\n",
      "At minibatch 1000, batch loss 0.063643, batch error rate 0.000000%\n",
      "At minibatch 1100, batch loss 0.132345, batch error rate 3.125000%\n",
      "At minibatch 1200, batch loss 0.288114, batch error rate 12.500000%\n",
      "At minibatch 1300, batch loss 0.232058, batch error rate 9.375000%\n",
      "At minibatch 1400, batch loss 0.231069, batch error rate 3.125000%\n",
      "At minibatch 1500, batch loss 0.160721, batch error rate 6.250000%\n",
      "At minibatch 1600, batch loss 0.019834, batch error rate 0.000000%\n",
      "After epoch 1: valid_err_rate: 4.545455% currently going to do 3 epochs\n",
      "At minibatch 1700, batch loss 0.050716, batch error rate 3.125000%\n",
      "At minibatch 1800, batch loss 0.044240, batch error rate 3.125000%\n",
      "At minibatch 1900, batch loss 0.205332, batch error rate 6.250000%\n",
      "At minibatch 2000, batch loss 0.154819, batch error rate 9.375000%\n",
      "At minibatch 2100, batch loss 0.412431, batch error rate 15.625000%\n",
      "At minibatch 2200, batch loss 0.061938, batch error rate 3.125000%\n",
      "At minibatch 2300, batch loss 0.073627, batch error rate 3.125000%\n",
      "At minibatch 2400, batch loss 0.107911, batch error rate 6.250000%\n",
      "At minibatch 2500, batch loss 0.025470, batch error rate 0.000000%\n",
      "At minibatch 2600, batch loss 0.092607, batch error rate 3.125000%\n",
      "At minibatch 2700, batch loss 0.081448, batch error rate 3.125000%\n",
      "At minibatch 2800, batch loss 0.175142, batch error rate 3.125000%\n",
      "At minibatch 2900, batch loss 0.104941, batch error rate 6.250000%\n",
      "At minibatch 3000, batch loss 0.078176, batch error rate 3.125000%\n",
      "At minibatch 3100, batch loss 0.133920, batch error rate 6.250000%\n",
      "At minibatch 3200, batch loss 0.057260, batch error rate 3.125000%\n",
      "At minibatch 3300, batch loss 0.179948, batch error rate 3.125000%\n",
      "After epoch 2: valid_err_rate: 3.492647% currently going to do 4 epochs\n",
      "At minibatch 3400, batch loss 0.125779, batch error rate 3.125000%\n",
      "At minibatch 3500, batch loss 0.048072, batch error rate 3.125000%\n",
      "At minibatch 3600, batch loss 0.033123, batch error rate 0.000000%\n",
      "At minibatch 3700, batch loss 0.159051, batch error rate 9.375000%\n",
      "At minibatch 3800, batch loss 0.325123, batch error rate 6.250000%\n",
      "At minibatch 3900, batch loss 0.086483, batch error rate 3.125000%\n",
      "At minibatch 4000, batch loss 0.016775, batch error rate 0.000000%\n",
      "At minibatch 4100, batch loss 0.025050, batch error rate 0.000000%\n",
      "At minibatch 4200, batch loss 0.009522, batch error rate 0.000000%\n",
      "At minibatch 4300, batch loss 0.102147, batch error rate 6.250000%\n",
      "At minibatch 4400, batch loss 0.004949, batch error rate 0.000000%\n",
      "At minibatch 4500, batch loss 0.110934, batch error rate 3.125000%\n",
      "At minibatch 4600, batch loss 0.032721, batch error rate 3.125000%\n",
      "At minibatch 4700, batch loss 0.056691, batch error rate 3.125000%\n",
      "At minibatch 4800, batch loss 0.205843, batch error rate 9.375000%\n",
      "At minibatch 4900, batch loss 0.170225, batch error rate 3.125000%\n",
      "At minibatch 5000, batch loss 0.029152, batch error rate 0.000000%\n",
      "After epoch 3: valid_err_rate: 2.807487% currently going to do 5 epochs\n",
      "At minibatch 5100, batch loss 0.041071, batch error rate 0.000000%\n",
      "At minibatch 5200, batch loss 0.026331, batch error rate 0.000000%\n",
      "At minibatch 5300, batch loss 0.010962, batch error rate 0.000000%\n",
      "At minibatch 5400, batch loss 0.103784, batch error rate 3.125000%\n",
      "At minibatch 5500, batch loss 0.220051, batch error rate 6.250000%\n",
      "At minibatch 5600, batch loss 0.007727, batch error rate 0.000000%\n",
      "At minibatch 5700, batch loss 0.009250, batch error rate 0.000000%\n",
      "At minibatch 5800, batch loss 0.012493, batch error rate 0.000000%\n",
      "At minibatch 5900, batch loss 0.068799, batch error rate 3.125000%\n",
      "At minibatch 6000, batch loss 0.013999, batch error rate 0.000000%\n",
      "At minibatch 6100, batch loss 0.070314, batch error rate 3.125000%\n",
      "At minibatch 6200, batch loss 0.034125, batch error rate 0.000000%\n",
      "At minibatch 6300, batch loss 0.093641, batch error rate 3.125000%\n",
      "At minibatch 6400, batch loss 0.023789, batch error rate 0.000000%\n",
      "At minibatch 6500, batch loss 0.060643, batch error rate 3.125000%\n",
      "At minibatch 6600, batch loss 0.077060, batch error rate 3.125000%\n",
      "At minibatch 6700, batch loss 0.003521, batch error rate 0.000000%\n",
      "After epoch 4: valid_err_rate: 2.790775% currently going to do 7 epochs\n",
      "At minibatch 6800, batch loss 0.016557, batch error rate 0.000000%\n",
      "At minibatch 6900, batch loss 0.007321, batch error rate 0.000000%\n",
      "At minibatch 7000, batch loss 0.009517, batch error rate 0.000000%\n",
      "At minibatch 7100, batch loss 0.045286, batch error rate 3.125000%\n",
      "At minibatch 7200, batch loss 0.013077, batch error rate 0.000000%\n",
      "At minibatch 7300, batch loss 0.003856, batch error rate 0.000000%\n",
      "At minibatch 7400, batch loss 0.116449, batch error rate 6.250000%\n",
      "At minibatch 7500, batch loss 0.013009, batch error rate 0.000000%\n",
      "At minibatch 7600, batch loss 0.138276, batch error rate 3.125000%\n",
      "At minibatch 7700, batch loss 0.165594, batch error rate 6.250000%\n",
      "At minibatch 7800, batch loss 0.014174, batch error rate 0.000000%\n",
      "At minibatch 7900, batch loss 0.004297, batch error rate 0.000000%\n",
      "At minibatch 8000, batch loss 0.084618, batch error rate 3.125000%\n",
      "At minibatch 8100, batch loss 0.037934, batch error rate 0.000000%\n",
      "At minibatch 8200, batch loss 0.295525, batch error rate 6.250000%\n",
      "At minibatch 8300, batch loss 0.009851, batch error rate 0.000000%\n",
      "At minibatch 8400, batch loss 0.011912, batch error rate 0.000000%\n",
      "After epoch 5: valid_err_rate: 2.556818% currently going to do 8 epochs\n",
      "At minibatch 8500, batch loss 0.008246, batch error rate 0.000000%\n",
      "At minibatch 8600, batch loss 0.004087, batch error rate 0.000000%\n",
      "At minibatch 8700, batch loss 0.013441, batch error rate 0.000000%\n",
      "At minibatch 8800, batch loss 0.007253, batch error rate 0.000000%\n",
      "At minibatch 8900, batch loss 0.030813, batch error rate 3.125000%\n",
      "At minibatch 9000, batch loss 0.046609, batch error rate 3.125000%\n",
      "At minibatch 9100, batch loss 0.122174, batch error rate 3.125000%\n",
      "At minibatch 9200, batch loss 0.067434, batch error rate 3.125000%\n",
      "At minibatch 9300, batch loss 0.001142, batch error rate 0.000000%\n",
      "At minibatch 9400, batch loss 0.030203, batch error rate 0.000000%\n",
      "At minibatch 9500, batch loss 0.003705, batch error rate 0.000000%\n",
      "At minibatch 9600, batch loss 0.005045, batch error rate 0.000000%\n",
      "At minibatch 9700, batch loss 0.026591, batch error rate 0.000000%\n",
      "At minibatch 9800, batch loss 0.031498, batch error rate 3.125000%\n",
      "At minibatch 9900, batch loss 0.018893, batch error rate 0.000000%\n",
      "At minibatch 10000, batch loss 0.044702, batch error rate 3.125000%\n",
      "At minibatch 10100, batch loss 0.000906, batch error rate 0.000000%\n",
      "After epoch 6: valid_err_rate: 2.540107% currently going to do 10 epochs\n",
      "At minibatch 10200, batch loss 0.002010, batch error rate 0.000000%\n",
      "At minibatch 10300, batch loss 0.002400, batch error rate 0.000000%\n",
      "At minibatch 10400, batch loss 0.002182, batch error rate 0.000000%\n",
      "At minibatch 10500, batch loss 0.074267, batch error rate 3.125000%\n",
      "At minibatch 10600, batch loss 0.005802, batch error rate 0.000000%\n",
      "Setting network parameters from after epoch 6\n"
     ]
    }
   ],
   "source": [
    "from trainer import SGD\n",
    "SGD(net, train_dataset, dev_dataset)"
   ]
  },
  {
   "cell_type": "code",
   "execution_count": 33,
   "metadata": {},
   "outputs": [
    {
     "data": {
      "text/plain": [
       "0.024839743589743588"
      ]
     },
     "execution_count": 33,
     "metadata": {},
     "output_type": "execute_result"
    }
   ],
   "source": [
    "from trainer import compute_error_rate\n",
    "compute_error_rate(net, test_dataset)"
   ]
  },
  {
   "cell_type": "markdown",
   "metadata": {},
   "source": [
    "6\\. A teraz damy jakiś przykład do rozpoznania dla sieci "
   ]
  },
  {
   "cell_type": "markdown",
   "metadata": {},
   "source": [
    "### Wprowadzenie obrazka do sieci"
   ]
  },
  {
   "cell_type": "code",
   "execution_count": 61,
   "metadata": {},
   "outputs": [
    {
     "name": "stdout",
     "output_type": "stream",
     "text": [
      "(28, 28, 3)\n"
     ]
    }
   ],
   "source": [
    "# Ładujemy obrazek, który ma wymiary (28, 28, 3)\n",
    "image = imread('/home/i248100/3.png')\n",
    "print(image.shape)"
   ]
  },
  {
   "cell_type": "code",
   "execution_count": 62,
   "metadata": {
    "collapsed": true
   },
   "outputs": [],
   "source": [
    "# Weżmy jedynie jedną ze składowych RGB, teraz mamy rzeczywiśćie obraz czarno-biały\n",
    "image = image[..., 0]"
   ]
  },
  {
   "cell_type": "code",
   "execution_count": 65,
   "metadata": {
    "collapsed": true
   },
   "outputs": [],
   "source": [
    "# Normalizujemy obraz z [0,1] na [-1, 1]\n",
    "image = (image * 2) - 1"
   ]
  },
  {
   "cell_type": "code",
   "execution_count": 66,
   "metadata": {},
   "outputs": [
    {
     "data": {
      "text/plain": [
       "<matplotlib.image.AxesImage at 0x7efc4a4cc550>"
      ]
     },
     "execution_count": 66,
     "metadata": {},
     "output_type": "execute_result"
    },
    {
     "data": {
      "image/png": "[encoded data removed]",
      "text/plain": [
       "<matplotlib.figure.Figure at 0x7efc4a5ac490>"
      ]
     },
     "metadata": {},
     "output_type": "display_data"
    }
   ],
   "source": [
    "imshow(image, cmap='gray')"
   ]
  },
  {
   "cell_type": "code",
   "execution_count": 67,
   "metadata": {},
   "outputs": [
    {
     "name": "stdout",
     "output_type": "stream",
     "text": [
      "Shape: (10, 1)\n",
      "[[  1.29197053e-08]\n",
      " [  3.45592525e-05]\n",
      " [  3.36455851e-05]\n",
      " [  9.98898625e-01]\n",
      " [  1.91318190e-06]\n",
      " [  8.11348262e-04]\n",
      " [  7.96192623e-08]\n",
      " [  3.14576005e-06]\n",
      " [  3.39711296e-05]\n",
      " [  1.82693650e-04]]\n"
     ]
    }
   ],
   "source": [
    "# Spłaszczamy obraz 28x28 -> 784. Dodatkowo sieć potrafi działać z kilkoma obrazkami jednocześnie\n",
    "# dlatego musimy jej powiedzieć, że w tym przypadku ma tylko jeden przykład. Dlatego mamy image.reshape(784, 1)\n",
    "result = net.fprop(image.reshape(784, 1))\n",
    "print(result)"
   ]
  },
  {
   "cell_type": "code",
   "execution_count": 68,
   "metadata": {},
   "outputs": [
    {
     "data": {
      "text/plain": [
       "<Container object of 10 artists>"
      ]
     },
     "execution_count": 68,
     "metadata": {},
     "output_type": "execute_result"
    },
    {
     "data": {
      "image/png": "[encoded data removed]",
      "text/plain": [
       "<matplotlib.figure.Figure at 0x7efc4a4e5610>"
      ]
     },
     "metadata": {},
     "output_type": "display_data"
    }
   ],
   "source": [
    "bar(arange(10), result[:,0])"
   ]
  },
  {
   "cell_type": "code",
   "execution_count": null,
   "metadata": {
    "collapsed": true
   },
   "outputs": [],
   "source": []
  }
 ],
 "metadata": {
  "kernelspec": {
   "display_name": "Python 2",
   "language": "python",
   "name": "python2"
  },
  "language_info": {
   "codemirror_mode": {
    "name": "ipython",
    "version": 2
   },
   "file_extension": ".py",
   "mimetype": "text/x-python",
   "name": "python",
   "nbconvert_exporter": "python",
   "pygments_lexer": "ipython2",
   "version": "2.7.13"
  }
 },
 "nbformat": 4,
 "nbformat_minor": 2
}
